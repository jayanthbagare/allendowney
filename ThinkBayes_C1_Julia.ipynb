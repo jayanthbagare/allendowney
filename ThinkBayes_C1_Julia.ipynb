{
  "nbformat": 4,
  "nbformat_minor": 0,
  "metadata": {
    "colab": {
      "provenance": [],
      "authorship_tag": "ABX9TyNY1s3iLJ5OrdCacNrywftI",
      "include_colab_link": true
    },
    "kernelspec": {
      "name": "julia",
      "display_name": "Julia"
    },
    "language_info": {
      "name": "julia"
    }
  },
  "cells": [
    {
      "cell_type": "markdown",
      "metadata": {
        "id": "view-in-github",
        "colab_type": "text"
      },
      "source": [
        "<a href=\"https://colab.research.google.com/github/jayanthbagare/allendowney/blob/main/ThinkBayes_C1_Julia.ipynb\" target=\"_parent\"><img src=\"https://colab.research.google.com/assets/colab-badge.svg\" alt=\"Open In Colab\"/></a>"
      ]
    },
    {
      "cell_type": "code",
      "execution_count": 32,
      "metadata": {
        "id": "TYP23D9FLxYv"
      },
      "outputs": [],
      "source": [
        "using CSV\n",
        "using DataFrames\n",
        "using Statistics\n",
        "using StatsBase\n",
        "using StatsPlots\n",
        "using FreqTables"
      ]
    },
    {
      "cell_type": "code",
      "source": [
        "df = CSV.read(\"gss_bayes.csv\",DataFrame)"
      ],
      "metadata": {
        "colab": {
          "base_uri": "https://localhost:8080/",
          "height": 652
        },
        "id": "CDFZHakjL9x5",
        "outputId": "2369ca5c-8e8f-48b7-b7bb-b2c469dc8383"
      },
      "execution_count": 4,
      "outputs": [
        {
          "output_type": "execute_result",
          "data": {
            "text/plain": [
              "\u001b[1m49290×7 DataFrame\n",
              "\u001b[1m   Row │\u001b[1m caseid \u001b[1m year  \u001b[1m age     \u001b[1m sex   \u001b[1m polviews \u001b[1m partyid \u001b[1m indus10\n",
              "       │\u001b[90m Int64  \u001b[90m Int64 \u001b[90m Float64 \u001b[90m Int64 \u001b[90m Float64  \u001b[90m Float64 \u001b[90m Float64\n",
              "───────┼───────────────────────────────────────────────────────────\n",
              "     1 │      1   1974     21.0      1       4.0      2.0   4970.0\n",
              "     2 │      2   1974     41.0      1       5.0      0.0   9160.0\n",
              "     3 │      5   1974     58.0      2       6.0      1.0   2670.0\n",
              "     4 │      6   1974     30.0      1       5.0      4.0   6870.0\n",
              "     5 │      7   1974     48.0      1       5.0      4.0   7860.0\n",
              "     6 │      8   1974     67.0      1       5.0      0.0   2870.0\n",
              "     7 │     10   1974     54.0      2       6.0      0.0   9470.0\n",
              "     8 │     11   1974     89.0      1       4.0      5.0   6990.0\n",
              "     9 │     12   1974     71.0      1       2.0      2.0   6080.0\n",
              "    10 │     14   1974     30.0      2       4.0      0.0   4970.0\n",
              "    11 │     15   1974     22.0      2       6.0      0.0   8680.0\n",
              "   ⋮   │   ⋮       ⋮       ⋮       ⋮       ⋮         ⋮        ⋮\n",
              " 49281 │   2858   2016     41.0      2       4.0      3.0   8270.0\n",
              " 49282 │   2859   2016     56.0      2       5.0      2.0   8190.0\n",
              " 49283 │   2860   2016     57.0      1       5.0      3.0    770.0\n",
              " 49284 │   2861   2016     68.0      2       4.0      2.0   9470.0\n",
              " 49285 │   2862   2016     75.0      2       6.0      3.0   1080.0\n",
              " 49286 │   2863   2016     57.0      2       1.0      0.0   7490.0\n",
              " 49287 │   2864   2016     77.0      1       6.0      7.0   3590.0\n",
              " 49288 │   2865   2016     87.0      2       4.0      5.0    770.0\n",
              " 49289 │   2866   2016     55.0      2       5.0      5.0   8680.0\n",
              " 49290 │   2867   2016     72.0      1       5.0      3.0   5170.0\n",
              "\u001b[36m                                                 49269 rows omitted"
            ],
            "text/html": [
              "<div><div style = \"float: left;\"><span>49290×7 DataFrame</span></div><div style = \"float: right;\"><span style = \"font-style: italic;\">49265 rows omitted</span></div><div style = \"clear: both;\"></div></div><div class = \"data-frame\" style = \"overflow-x: scroll;\"><table class = \"data-frame\" style = \"margin-bottom: 6px;\"><thead><tr class = \"header\"><th class = \"rowNumber\" style = \"font-weight: bold; text-align: right;\">Row</th><th style = \"text-align: left;\">caseid</th><th style = \"text-align: left;\">year</th><th style = \"text-align: left;\">age</th><th style = \"text-align: left;\">sex</th><th style = \"text-align: left;\">polviews</th><th style = \"text-align: left;\">partyid</th><th style = \"text-align: left;\">indus10</th></tr><tr class = \"subheader headerLastRow\"><th class = \"rowNumber\" style = \"font-weight: bold; text-align: right;\"></th><th title = \"Int64\" style = \"text-align: left;\">Int64</th><th title = \"Int64\" style = \"text-align: left;\">Int64</th><th title = \"Float64\" style = \"text-align: left;\">Float64</th><th title = \"Int64\" style = \"text-align: left;\">Int64</th><th title = \"Float64\" style = \"text-align: left;\">Float64</th><th title = \"Float64\" style = \"text-align: left;\">Float64</th><th title = \"Float64\" style = \"text-align: left;\">Float64</th></tr></thead><tbody><tr><td class = \"rowNumber\" style = \"font-weight: bold; text-align: right;\">1</td><td style = \"text-align: right;\">1</td><td style = \"text-align: right;\">1974</td><td style = \"text-align: right;\">21.0</td><td style = \"text-align: right;\">1</td><td style = \"text-align: right;\">4.0</td><td style = \"text-align: right;\">2.0</td><td style = \"text-align: right;\">4970.0</td></tr><tr><td class = \"rowNumber\" style = \"font-weight: bold; text-align: right;\">2</td><td style = \"text-align: right;\">2</td><td style = \"text-align: right;\">1974</td><td style = \"text-align: right;\">41.0</td><td style = \"text-align: right;\">1</td><td style = \"text-align: right;\">5.0</td><td style = \"text-align: right;\">0.0</td><td style = \"text-align: right;\">9160.0</td></tr><tr><td class = \"rowNumber\" style = \"font-weight: bold; text-align: right;\">3</td><td style = \"text-align: right;\">5</td><td style = \"text-align: right;\">1974</td><td style = \"text-align: right;\">58.0</td><td style = \"text-align: right;\">2</td><td style = \"text-align: right;\">6.0</td><td style = \"text-align: right;\">1.0</td><td style = \"text-align: right;\">2670.0</td></tr><tr><td class = \"rowNumber\" style = \"font-weight: bold; text-align: right;\">4</td><td style = \"text-align: right;\">6</td><td style = \"text-align: right;\">1974</td><td style = \"text-align: right;\">30.0</td><td style = \"text-align: right;\">1</td><td style = \"text-align: right;\">5.0</td><td style = \"text-align: right;\">4.0</td><td style = \"text-align: right;\">6870.0</td></tr><tr><td class = \"rowNumber\" style = \"font-weight: bold; text-align: right;\">5</td><td style = \"text-align: right;\">7</td><td style = \"text-align: right;\">1974</td><td style = \"text-align: right;\">48.0</td><td style = \"text-align: right;\">1</td><td style = \"text-align: right;\">5.0</td><td style = \"text-align: right;\">4.0</td><td style = \"text-align: right;\">7860.0</td></tr><tr><td class = \"rowNumber\" style = \"font-weight: bold; text-align: right;\">6</td><td style = \"text-align: right;\">8</td><td style = \"text-align: right;\">1974</td><td style = \"text-align: right;\">67.0</td><td style = \"text-align: right;\">1</td><td style = \"text-align: right;\">5.0</td><td style = \"text-align: right;\">0.0</td><td style = \"text-align: right;\">2870.0</td></tr><tr><td class = \"rowNumber\" style = \"font-weight: bold; text-align: right;\">7</td><td style = \"text-align: right;\">10</td><td style = \"text-align: right;\">1974</td><td style = \"text-align: right;\">54.0</td><td style = \"text-align: right;\">2</td><td style = \"text-align: right;\">6.0</td><td style = \"text-align: right;\">0.0</td><td style = \"text-align: right;\">9470.0</td></tr><tr><td class = \"rowNumber\" style = \"font-weight: bold; text-align: right;\">8</td><td style = \"text-align: right;\">11</td><td style = \"text-align: right;\">1974</td><td style = \"text-align: right;\">89.0</td><td style = \"text-align: right;\">1</td><td style = \"text-align: right;\">4.0</td><td style = \"text-align: right;\">5.0</td><td style = \"text-align: right;\">6990.0</td></tr><tr><td class = \"rowNumber\" style = \"font-weight: bold; text-align: right;\">9</td><td style = \"text-align: right;\">12</td><td style = \"text-align: right;\">1974</td><td style = \"text-align: right;\">71.0</td><td style = \"text-align: right;\">1</td><td style = \"text-align: right;\">2.0</td><td style = \"text-align: right;\">2.0</td><td style = \"text-align: right;\">6080.0</td></tr><tr><td class = \"rowNumber\" style = \"font-weight: bold; text-align: right;\">10</td><td style = \"text-align: right;\">14</td><td style = \"text-align: right;\">1974</td><td style = \"text-align: right;\">30.0</td><td style = \"text-align: right;\">2</td><td style = \"text-align: right;\">4.0</td><td style = \"text-align: right;\">0.0</td><td style = \"text-align: right;\">4970.0</td></tr><tr><td class = \"rowNumber\" style = \"font-weight: bold; text-align: right;\">11</td><td style = \"text-align: right;\">15</td><td style = \"text-align: right;\">1974</td><td style = \"text-align: right;\">22.0</td><td style = \"text-align: right;\">2</td><td style = \"text-align: right;\">6.0</td><td style = \"text-align: right;\">0.0</td><td style = \"text-align: right;\">8680.0</td></tr><tr><td class = \"rowNumber\" style = \"font-weight: bold; text-align: right;\">12</td><td style = \"text-align: right;\">16</td><td style = \"text-align: right;\">1974</td><td style = \"text-align: right;\">23.0</td><td style = \"text-align: right;\">1</td><td style = \"text-align: right;\">4.0</td><td style = \"text-align: right;\">2.0</td><td style = \"text-align: right;\">4970.0</td></tr><tr><td class = \"rowNumber\" style = \"font-weight: bold; text-align: right;\">13</td><td style = \"text-align: right;\">17</td><td style = \"text-align: right;\">1974</td><td style = \"text-align: right;\">63.0</td><td style = \"text-align: right;\">1</td><td style = \"text-align: right;\">4.0</td><td style = \"text-align: right;\">7.0</td><td style = \"text-align: right;\">170.0</td></tr><tr><td style = \"text-align: right;\">&vellip;</td><td style = \"text-align: right;\">&vellip;</td><td style = \"text-align: right;\">&vellip;</td><td style = \"text-align: right;\">&vellip;</td><td style = \"text-align: right;\">&vellip;</td><td style = \"text-align: right;\">&vellip;</td><td style = \"text-align: right;\">&vellip;</td><td style = \"text-align: right;\">&vellip;</td></tr><tr><td class = \"rowNumber\" style = \"font-weight: bold; text-align: right;\">49279</td><td style = \"text-align: right;\">2856</td><td style = \"text-align: right;\">2016</td><td style = \"text-align: right;\">21.0</td><td style = \"text-align: right;\">1</td><td style = \"text-align: right;\">2.0</td><td style = \"text-align: right;\">2.0</td><td style = \"text-align: right;\">8680.0</td></tr><tr><td class = \"rowNumber\" style = \"font-weight: bold; text-align: right;\">49280</td><td style = \"text-align: right;\">2857</td><td style = \"text-align: right;\">2016</td><td style = \"text-align: right;\">35.0</td><td style = \"text-align: right;\">2</td><td style = \"text-align: right;\">1.0</td><td style = \"text-align: right;\">1.0</td><td style = \"text-align: right;\">8270.0</td></tr><tr><td class = \"rowNumber\" style = \"font-weight: bold; text-align: right;\">49281</td><td style = \"text-align: right;\">2858</td><td style = \"text-align: right;\">2016</td><td style = \"text-align: right;\">41.0</td><td style = \"text-align: right;\">2</td><td style = \"text-align: right;\">4.0</td><td style = \"text-align: right;\">3.0</td><td style = \"text-align: right;\">8270.0</td></tr><tr><td class = \"rowNumber\" style = \"font-weight: bold; text-align: right;\">49282</td><td style = \"text-align: right;\">2859</td><td style = \"text-align: right;\">2016</td><td style = \"text-align: right;\">56.0</td><td style = \"text-align: right;\">2</td><td style = \"text-align: right;\">5.0</td><td style = \"text-align: right;\">2.0</td><td style = \"text-align: right;\">8190.0</td></tr><tr><td class = \"rowNumber\" style = \"font-weight: bold; text-align: right;\">49283</td><td style = \"text-align: right;\">2860</td><td style = \"text-align: right;\">2016</td><td style = \"text-align: right;\">57.0</td><td style = \"text-align: right;\">1</td><td style = \"text-align: right;\">5.0</td><td style = \"text-align: right;\">3.0</td><td style = \"text-align: right;\">770.0</td></tr><tr><td class = \"rowNumber\" style = \"font-weight: bold; text-align: right;\">49284</td><td style = \"text-align: right;\">2861</td><td style = \"text-align: right;\">2016</td><td style = \"text-align: right;\">68.0</td><td style = \"text-align: right;\">2</td><td style = \"text-align: right;\">4.0</td><td style = \"text-align: right;\">2.0</td><td style = \"text-align: right;\">9470.0</td></tr><tr><td class = \"rowNumber\" style = \"font-weight: bold; text-align: right;\">49285</td><td style = \"text-align: right;\">2862</td><td style = \"text-align: right;\">2016</td><td style = \"text-align: right;\">75.0</td><td style = \"text-align: right;\">2</td><td style = \"text-align: right;\">6.0</td><td style = \"text-align: right;\">3.0</td><td style = \"text-align: right;\">1080.0</td></tr><tr><td class = \"rowNumber\" style = \"font-weight: bold; text-align: right;\">49286</td><td style = \"text-align: right;\">2863</td><td style = \"text-align: right;\">2016</td><td style = \"text-align: right;\">57.0</td><td style = \"text-align: right;\">2</td><td style = \"text-align: right;\">1.0</td><td style = \"text-align: right;\">0.0</td><td style = \"text-align: right;\">7490.0</td></tr><tr><td class = \"rowNumber\" style = \"font-weight: bold; text-align: right;\">49287</td><td style = \"text-align: right;\">2864</td><td style = \"text-align: right;\">2016</td><td style = \"text-align: right;\">77.0</td><td style = \"text-align: right;\">1</td><td style = \"text-align: right;\">6.0</td><td style = \"text-align: right;\">7.0</td><td style = \"text-align: right;\">3590.0</td></tr><tr><td class = \"rowNumber\" style = \"font-weight: bold; text-align: right;\">49288</td><td style = \"text-align: right;\">2865</td><td style = \"text-align: right;\">2016</td><td style = \"text-align: right;\">87.0</td><td style = \"text-align: right;\">2</td><td style = \"text-align: right;\">4.0</td><td style = \"text-align: right;\">5.0</td><td style = \"text-align: right;\">770.0</td></tr><tr><td class = \"rowNumber\" style = \"font-weight: bold; text-align: right;\">49289</td><td style = \"text-align: right;\">2866</td><td style = \"text-align: right;\">2016</td><td style = \"text-align: right;\">55.0</td><td style = \"text-align: right;\">2</td><td style = \"text-align: right;\">5.0</td><td style = \"text-align: right;\">5.0</td><td style = \"text-align: right;\">8680.0</td></tr><tr><td class = \"rowNumber\" style = \"font-weight: bold; text-align: right;\">49290</td><td style = \"text-align: right;\">2867</td><td style = \"text-align: right;\">2016</td><td style = \"text-align: right;\">72.0</td><td style = \"text-align: right;\">1</td><td style = \"text-align: right;\">5.0</td><td style = \"text-align: right;\">3.0</td><td style = \"text-align: right;\">5170.0</td></tr></tbody></table></div>"
            ],
            "text/latex": "\\begin{tabular}{r|ccccccc}\n\t& caseid & year & age & sex & polviews & partyid & indus10\\\\\n\t\\hline\n\t& Int64 & Int64 & Float64 & Int64 & Float64 & Float64 & Float64\\\\\n\t\\hline\n\t1 & 1 & 1974 & 21.0 & 1 & 4.0 & 2.0 & 4970.0 \\\\\n\t2 & 2 & 1974 & 41.0 & 1 & 5.0 & 0.0 & 9160.0 \\\\\n\t3 & 5 & 1974 & 58.0 & 2 & 6.0 & 1.0 & 2670.0 \\\\\n\t4 & 6 & 1974 & 30.0 & 1 & 5.0 & 4.0 & 6870.0 \\\\\n\t5 & 7 & 1974 & 48.0 & 1 & 5.0 & 4.0 & 7860.0 \\\\\n\t6 & 8 & 1974 & 67.0 & 1 & 5.0 & 0.0 & 2870.0 \\\\\n\t7 & 10 & 1974 & 54.0 & 2 & 6.0 & 0.0 & 9470.0 \\\\\n\t8 & 11 & 1974 & 89.0 & 1 & 4.0 & 5.0 & 6990.0 \\\\\n\t9 & 12 & 1974 & 71.0 & 1 & 2.0 & 2.0 & 6080.0 \\\\\n\t10 & 14 & 1974 & 30.0 & 2 & 4.0 & 0.0 & 4970.0 \\\\\n\t11 & 15 & 1974 & 22.0 & 2 & 6.0 & 0.0 & 8680.0 \\\\\n\t12 & 16 & 1974 & 23.0 & 1 & 4.0 & 2.0 & 4970.0 \\\\\n\t13 & 17 & 1974 & 63.0 & 1 & 4.0 & 7.0 & 170.0 \\\\\n\t14 & 19 & 1974 & 71.0 & 2 & 7.0 & 5.0 & 9290.0 \\\\\n\t15 & 21 & 1974 & 25.0 & 1 & 4.0 & 7.0 & 1070.0 \\\\\n\t16 & 22 & 1974 & 72.0 & 1 & 6.0 & 0.0 & 770.0 \\\\\n\t17 & 23 & 1974 & 73.0 & 2 & 6.0 & 1.0 & 170.0 \\\\\n\t18 & 25 & 1974 & 65.0 & 2 & 2.0 & 0.0 & 4970.0 \\\\\n\t19 & 26 & 1974 & 59.0 & 1 & 2.0 & 3.0 & 4290.0 \\\\\n\t20 & 27 & 1974 & 53.0 & 1 & 4.0 & 3.0 & 4670.0 \\\\\n\t21 & 28 & 1974 & 60.0 & 2 & 4.0 & 4.0 & 1680.0 \\\\\n\t22 & 29 & 1974 & 54.0 & 2 & 7.0 & 1.0 & 8190.0 \\\\\n\t23 & 30 & 1974 & 35.0 & 2 & 5.0 & 2.0 & 6990.0 \\\\\n\t24 & 31 & 1974 & 51.0 & 1 & 4.0 & 0.0 & 3770.0 \\\\\n\t25 & 32 & 1974 & 58.0 & 1 & 3.0 & 0.0 & 770.0 \\\\\n\t26 & 34 & 1974 & 72.0 & 2 & 4.0 & 1.0 & 4970.0 \\\\\n\t27 & 36 & 1974 & 26.0 & 1 & 5.0 & 1.0 & 3770.0 \\\\\n\t28 & 37 & 1974 & 39.0 & 1 & 4.0 & 2.0 & 1870.0 \\\\\n\t29 & 38 & 1974 & 58.0 & 2 & 3.0 & 5.0 & 1680.0 \\\\\n\t30 & 40 & 1974 & 23.0 & 2 & 3.0 & 2.0 & 7860.0 \\\\\n\t$\\dots$ & $\\dots$ & $\\dots$ & $\\dots$ & $\\dots$ & $\\dots$ & $\\dots$ & $\\dots$ \\\\\n\\end{tabular}\n"
          },
          "metadata": {},
          "execution_count": 4
        }
      ]
    },
    {
      "cell_type": "code",
      "source": [
        "function prob(A)\n",
        "  return mean(A)\n",
        "end\n",
        "\n",
        "function conditional(proposition,given)\n",
        "  return prob(proposition[given])\n",
        "end"
      ],
      "metadata": {
        "colab": {
          "base_uri": "https://localhost:8080/"
        },
        "id": "sLohXovGMjo5",
        "outputId": "30349808-39e3-469b-ca28-bd9d0d652451"
      },
      "execution_count": 17,
      "outputs": [
        {
          "output_type": "execute_result",
          "data": {
            "text/plain": [
              "conditional (generic function with 1 method)"
            ]
          },
          "metadata": {},
          "execution_count": 17
        }
      ]
    },
    {
      "cell_type": "code",
      "source": [
        "banker = df.indus10 .== 6870\n",
        "prob(banker)"
      ],
      "metadata": {
        "colab": {
          "base_uri": "https://localhost:8080/"
        },
        "id": "aKxO5UOHM1mn",
        "outputId": "307fef25-ebe5-47de-95eb-ddc595610203"
      },
      "execution_count": 9,
      "outputs": [
        {
          "output_type": "execute_result",
          "data": {
            "text/plain": [
              "0.014769730168391155"
            ]
          },
          "metadata": {},
          "execution_count": 9
        }
      ]
    },
    {
      "cell_type": "code",
      "source": [
        "female = df.sex .== 2\n",
        "prob(female)"
      ],
      "metadata": {
        "colab": {
          "base_uri": "https://localhost:8080/"
        },
        "id": "CJOhSHfTNJLT",
        "outputId": "9b543b4a-0a00-4995-ba99-b9519d69997e"
      },
      "execution_count": 10,
      "outputs": [
        {
          "output_type": "execute_result",
          "data": {
            "text/plain": [
              "0.5378575776019476"
            ]
          },
          "metadata": {},
          "execution_count": 10
        }
      ]
    },
    {
      "cell_type": "code",
      "source": [
        "liberal = df.polviews .<= 3\n",
        "prob(liberal)"
      ],
      "metadata": {
        "colab": {
          "base_uri": "https://localhost:8080/"
        },
        "id": "irAhfHOQNLFv",
        "outputId": "da157f6c-25e5-4e29-b849-7f1ab565527b"
      },
      "execution_count": 11,
      "outputs": [
        {
          "output_type": "execute_result",
          "data": {
            "text/plain": [
              "0.27374721038750255"
            ]
          },
          "metadata": {},
          "execution_count": 11
        }
      ]
    },
    {
      "cell_type": "code",
      "source": [
        "democrat = df.partyid .<= 1\n",
        "prob(democrat)"
      ],
      "metadata": {
        "colab": {
          "base_uri": "https://localhost:8080/"
        },
        "id": "M_74G49YNff1",
        "outputId": "0a93c180-80e9-436a-904c-68c9cb4f1da8"
      },
      "execution_count": 13,
      "outputs": [
        {
          "output_type": "execute_result",
          "data": {
            "text/plain": [
              "0.3662609048488537"
            ]
          },
          "metadata": {},
          "execution_count": 13
        }
      ]
    },
    {
      "cell_type": "code",
      "source": [
        "prob(banker .& democrat)"
      ],
      "metadata": {
        "colab": {
          "base_uri": "https://localhost:8080/"
        },
        "id": "Jrle0QTuNlhX",
        "outputId": "4adb9a87-190e-4f5e-8058-4e6784ae22e8"
      },
      "execution_count": 14,
      "outputs": [
        {
          "output_type": "execute_result",
          "data": {
            "text/plain": [
              "0.004686548995739501"
            ]
          },
          "metadata": {},
          "execution_count": 14
        }
      ]
    },
    {
      "cell_type": "code",
      "source": [
        "selected = democrat[liberal]\n",
        "prob(selected)"
      ],
      "metadata": {
        "colab": {
          "base_uri": "https://localhost:8080/"
        },
        "id": "aHQAQrfZNsnR",
        "outputId": "98e3132d-2998-4152-d53d-2e35ec1d9a28"
      },
      "execution_count": 15,
      "outputs": [
        {
          "output_type": "execute_result",
          "data": {
            "text/plain": [
              "0.5206403320240125"
            ]
          },
          "metadata": {},
          "execution_count": 15
        }
      ]
    },
    {
      "cell_type": "code",
      "source": [
        "conditional(liberal,female)"
      ],
      "metadata": {
        "colab": {
          "base_uri": "https://localhost:8080/"
        },
        "id": "1-mxmqryOXRU",
        "outputId": "e760e478-ce26-4353-b4e4-9c0d18e4c9f2"
      },
      "execution_count": 18,
      "outputs": [
        {
          "output_type": "execute_result",
          "data": {
            "text/plain": [
              "0.27581004111500884"
            ]
          },
          "metadata": {},
          "execution_count": 18
        }
      ]
    },
    {
      "cell_type": "code",
      "source": [
        "conditional(female,banker)"
      ],
      "metadata": {
        "colab": {
          "base_uri": "https://localhost:8080/"
        },
        "id": "JysQjyErOctu",
        "outputId": "b76809df-1e21-44f6-e7b1-dc3bb906bbb4"
      },
      "execution_count": 19,
      "outputs": [
        {
          "output_type": "execute_result",
          "data": {
            "text/plain": [
              "0.7706043956043956"
            ]
          },
          "metadata": {},
          "execution_count": 19
        }
      ]
    },
    {
      "cell_type": "code",
      "source": [
        "conditional(banker,female)"
      ],
      "metadata": {
        "colab": {
          "base_uri": "https://localhost:8080/"
        },
        "id": "aCKtEPH7OnW9",
        "outputId": "c7ad8e32-8f40-4b05-da10-f828be78c304"
      },
      "execution_count": 20,
      "outputs": [
        {
          "output_type": "execute_result",
          "data": {
            "text/plain": [
              "0.02116102749801969"
            ]
          },
          "metadata": {},
          "execution_count": 20
        }
      ]
    },
    {
      "cell_type": "code",
      "source": [
        "prob(female .& banker) /prob(banker)"
      ],
      "metadata": {
        "colab": {
          "base_uri": "https://localhost:8080/"
        },
        "id": "lI_GzQOlOpN4",
        "outputId": "e7573fd4-f77f-4b9e-903f-2d086f62491b"
      },
      "execution_count": 21,
      "outputs": [
        {
          "output_type": "execute_result",
          "data": {
            "text/plain": [
              "0.7706043956043956"
            ]
          },
          "metadata": {},
          "execution_count": 21
        }
      ]
    },
    {
      "cell_type": "code",
      "source": [
        "male = df.sex .== 1\n",
        "prob(male)"
      ],
      "metadata": {
        "colab": {
          "base_uri": "https://localhost:8080/"
        },
        "id": "vFosihfnPcfp",
        "outputId": "a8b49bb4-5d66-4c21-bd62-89ab64594413"
      },
      "execution_count": 24,
      "outputs": [
        {
          "output_type": "execute_result",
          "data": {
            "text/plain": [
              "0.46214242239805237"
            ]
          },
          "metadata": {},
          "execution_count": 24
        }
      ]
    },
    {
      "cell_type": "code",
      "source": [
        "prob(male .& banker) + prob(female .& banker)"
      ],
      "metadata": {
        "colab": {
          "base_uri": "https://localhost:8080/"
        },
        "id": "b1o90PuxRI-Q",
        "outputId": "4eff7ce3-0802-4c61-f1a4-cbfdde6f3cfc"
      },
      "execution_count": 25,
      "outputs": [
        {
          "output_type": "execute_result",
          "data": {
            "text/plain": [
              "0.014769730168391155"
            ]
          },
          "metadata": {},
          "execution_count": 25
        }
      ]
    },
    {
      "cell_type": "code",
      "source": [
        "B = df.polviews\n",
        "coll = sort(countmap(B))\n",
        "eachindex(coll)"
      ],
      "metadata": {
        "colab": {
          "base_uri": "https://localhost:8080/"
        },
        "id": "qMqNF4hPRUqo",
        "outputId": "39fb0998-6d73-4429-e185-cb9218bdbf2f"
      },
      "execution_count": 59,
      "outputs": [
        {
          "output_type": "execute_result",
          "data": {
            "text/plain": [
              "KeySet for a OrderedCollections.OrderedDict{Float64, Int64} with 7 entries. Keys:\n",
              "  1.0\n",
              "  2.0\n",
              "  3.0\n",
              "  4.0\n",
              "  5.0\n",
              "  6.0\n",
              "  7.0"
            ]
          },
          "metadata": {},
          "execution_count": 59
        }
      ]
    },
    {
      "cell_type": "code",
      "source": [
        "i = 4\n",
        "cumsum = 0.0\n",
        "for i in eachindex(coll)\n",
        "  cumsum += prob(B.==i) * conditional(banker,B.==i)\n",
        "end\n",
        "print(cumsum)"
      ],
      "metadata": {
        "colab": {
          "base_uri": "https://localhost:8080/"
        },
        "id": "Ei1DWf2MRsmc",
        "outputId": "f1004ff1-e51f-42d5-e74d-c5becb8cc9ec"
      },
      "execution_count": 63,
      "outputs": [
        {
          "output_type": "stream",
          "name": "stdout",
          "text": [
            "0.014769730168391157"
          ]
        }
      ]
    },
    {
      "cell_type": "markdown",
      "source": [
        "Theorem 1\n",
        " $$ P(A|B)= \\frac{P(A and B)}{P(B)} $$\n",
        "\n",
        "Theorem 2 \\\n",
        "$$ P(A and B) = P(B)*P(A|B) $$\n",
        "\n",
        "Theorem 3(Bayes Theorem) \\\n",
        "$$ P(A|B) = \\frac{P(A)*P(B|A)}{P(B)} $$\n",
        "\n",
        "Law of Total Probability \\\n",
        "$$ P(A) = \\sum_{i}P(B_i)*P(A|B_i) $$"
      ],
      "metadata": {
        "id": "9VhdUDKCYQK3"
      }
    },
    {
      "cell_type": "markdown",
      "source": [
        "Exercise 1.13 Below"
      ],
      "metadata": {
        "id": "n3J7X-72X-si"
      }
    },
    {
      "cell_type": "code",
      "source": [
        "# What is the probability that a respondent is liberal, given that they are a Democrat?\n",
        "prob(liberal .& democrat) / prob(democrat)"
      ],
      "metadata": {
        "colab": {
          "base_uri": "https://localhost:8080/"
        },
        "id": "_v51E21ZUqkf",
        "outputId": "95fdf162-ee48-4a0d-86f3-a79d911f0f96"
      },
      "execution_count": 66,
      "outputs": [
        {
          "output_type": "execute_result",
          "data": {
            "text/plain": [
              "0.38913200022156985"
            ]
          },
          "metadata": {},
          "execution_count": 66
        }
      ]
    },
    {
      "cell_type": "code",
      "source": [
        "# What is the probability that a respondent is a Democrat, given that they are liberal?\n",
        "prob(liberal .& democrat) / prob(liberal)"
      ],
      "metadata": {
        "colab": {
          "base_uri": "https://localhost:8080/"
        },
        "id": "BxZQbfu8XkEh",
        "outputId": "7ca66293-652f-4f9b-88c0-a8eece905539"
      },
      "execution_count": 69,
      "outputs": [
        {
          "output_type": "execute_result",
          "data": {
            "text/plain": [
              "0.5206403320240124"
            ]
          },
          "metadata": {},
          "execution_count": 69
        }
      ]
    },
    {
      "cell_type": "markdown",
      "source": [
        "Linda is 31 years old, single, outspoken, and very bright. She majored in philosophy. As a student, she was deeply concerned with issues of discrimination and social justice, and also participated in anti-nuclear demonstrations. Which is more probable?\n",
        "\n",
        "  * Linda is a banker given she is a female.\n",
        "  * Linda is a banker and considers herself a liberal Democrat.\n",
        "\n"
      ],
      "metadata": {
        "id": "P5U_5wk8aWXD"
      }
    },
    {
      "cell_type": "code",
      "source": [
        "conditional(banker,female)"
      ],
      "metadata": {
        "colab": {
          "base_uri": "https://localhost:8080/"
        },
        "id": "Ywm6cyXzYBqm",
        "outputId": "913c5d02-37f7-4d63-c265-ccff598640be"
      },
      "execution_count": 71,
      "outputs": [
        {
          "output_type": "execute_result",
          "data": {
            "text/plain": [
              "0.02116102749801969"
            ]
          },
          "metadata": {},
          "execution_count": 71
        }
      ]
    },
    {
      "cell_type": "code",
      "source": [
        "conditional(banker .& liberal .& democrat, female)"
      ],
      "metadata": {
        "colab": {
          "base_uri": "https://localhost:8080/"
        },
        "id": "41kkpoombSu_",
        "outputId": "9eba5daf-e028-481d-b11b-d6f42deb180b"
      },
      "execution_count": 73,
      "outputs": [
        {
          "output_type": "execute_result",
          "data": {
            "text/plain": [
              "0.0023009316887329786"
            ]
          },
          "metadata": {},
          "execution_count": 73
        }
      ]
    },
    {
      "cell_type": "markdown",
      "source": [
        "Exercise: There’s a famous quote about young people, old people, liberals, and conservatives that goes something like: <br/>\n",
        "<b><i>If you are not a liberal at 25, you have no heart. If you are not a conservative at 35, you have no brain.</i></b>\n",
        "\n",
        "<ul>\n",
        "<li>What is the probability that a randomly chosen respondent is a young liberal?</li>\n",
        "<li>What is the probability that a young person is liberal?</li>\n",
        "<li>What fraction of respondents are old conservatives?</li>\n",
        "<li>What fraction of conservatives are old?</li>\n",
        "</ul>"
      ],
      "metadata": {
        "id": "Dq8VfR_VblAq"
      }
    },
    {
      "cell_type": "code",
      "source": [
        "young = df.age .< 30\n",
        "old = df.age .>= 65\n",
        "println(\"Probability of Young \" , prob(young))\n",
        "println(\"Probability of Old \" , prob(old))\n",
        "conservative = df.polviews .>= 5\n",
        "println(\"Probability of Conservative\", prob(conservative))"
      ],
      "metadata": {
        "colab": {
          "base_uri": "https://localhost:8080/"
        },
        "id": "tceGa7BabcKG",
        "outputId": "49708d35-756b-4797-dd95-0681bc6275a5"
      },
      "execution_count": 90,
      "outputs": [
        {
          "output_type": "stream",
          "name": "stdout",
          "text": [
            "Probability of Young 0.19435991073240008\n",
            "Probability of Old 0.17328058429701765\n",
            "Probability of Conservative0.3419354838709677\n"
          ]
        }
      ]
    },
    {
      "cell_type": "code",
      "source": [
        "# What is the probability that a randomly chosen respondent is a young liberal?\n",
        "println(\"Probability of Young and Liberal \", prob(liberal .& young))"
      ],
      "metadata": {
        "colab": {
          "base_uri": "https://localhost:8080/"
        },
        "id": "bqUwFyHdb_Eb",
        "outputId": "b2541e60-a050-40cc-9c8c-53779221c999"
      },
      "execution_count": 87,
      "outputs": [
        {
          "output_type": "stream",
          "name": "stdout",
          "text": [
            "Probability of Young and Liberal 0.06579427875836884\n"
          ]
        }
      ]
    },
    {
      "cell_type": "code",
      "source": [
        "# What is the probability that a young person is liberal?\n",
        "println(\"Probability of a person is liberal given they are a young \", conditional(liberal,young))"
      ],
      "metadata": {
        "colab": {
          "base_uri": "https://localhost:8080/"
        },
        "id": "nYs0khENcufh",
        "outputId": "731e87ee-a885-4df0-f509-31b2ad77d2e4"
      },
      "execution_count": 89,
      "outputs": [
        {
          "output_type": "stream",
          "name": "stdout",
          "text": [
            "Probability of a person is liberal given they are a young 0.338517745302714\n"
          ]
        }
      ]
    },
    {
      "cell_type": "code",
      "source": [
        "# What fraction of respondents are old conservatives?\n",
        "println(\"Probability of Old and Conservative \", prob(conservative .& old))"
      ],
      "metadata": {
        "colab": {
          "base_uri": "https://localhost:8080/"
        },
        "id": "uQP5kWEUdy4C",
        "outputId": "ab3df9e0-51d2-4ebb-e102-07b5ea6023d9"
      },
      "execution_count": 91,
      "outputs": [
        {
          "output_type": "stream",
          "name": "stdout",
          "text": [
            "Probability of Old and Conservative 0.06701156421180766\n"
          ]
        }
      ]
    },
    {
      "cell_type": "code",
      "source": [
        "# What fraction of conservatives are old?\n",
        "println(\"Probability of a person is old given they are conservative \", conditional(old,conservative))"
      ],
      "metadata": {
        "colab": {
          "base_uri": "https://localhost:8080/"
        },
        "id": "4N4mtBvreCWp",
        "outputId": "8a868a41-72b2-44a6-f788-ca10d0aa31f8"
      },
      "execution_count": 94,
      "outputs": [
        {
          "output_type": "stream",
          "name": "stdout",
          "text": [
            "Probability of a person is old given they are conservative 0.19597721609113564\n"
          ]
        }
      ]
    },
    {
      "cell_type": "code",
      "source": [],
      "metadata": {
        "id": "o55UuoUNeSTh"
      },
      "execution_count": null,
      "outputs": []
    }
  ]
}